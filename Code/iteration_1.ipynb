{
 "cells": [
  {
   "cell_type": "code",
   "execution_count": 1,
   "metadata": {},
   "outputs": [],
   "source": [
    "import descriptors\n",
    "from rdkit import Chem\n",
    "from rdkit.Chem import AllChem, Draw\n",
    "import pandas as pd\n",
    "import numpy as np\n",
    "from sklearn.svm import SVR\n",
    "from sklearn.model_selection import KFold, ShuffleSplit, GridSearchCV, cross_val_score, cross_validate\n",
    "from sklearn.metrics import mean_squared_error, mean_absolute_error, r2_score\n",
    "from sklearn.linear_model import Lasso, LinearRegression\n",
    "from sklearn.kernel_ridge import KernelRidge\n",
    "\n",
    "import os\n",
    "import glob\n",
    "from scipy.stats import norm\n",
    "import math"
   ]
  },
  {
   "cell_type": "code",
   "execution_count": 2,
   "metadata": {},
   "outputs": [],
   "source": [
    "data = pd.read_excel('search space.xlsx')\n",
    "data['Mols'] = data['SMILES'].apply(Chem.MolFromSmiles)\n",
    "data['Mols'] = data['Mols'].apply(Chem.AddHs)\n",
    "\n",
    "bond_types,x_SOB = descriptors.literal_bag_of_bonds(list(data['Mols']))\n",
    "x_Estate = descriptors.truncated_Estate_fingerprints(list(data['Mols']))\n",
    "x_cds = descriptors.custom_descriptor_set(list(data['Mols']))\n",
    "x_combined_train = np.concatenate((x_SOB[0:88], x_Estate[0:88]), axis=1)\n",
    "x_combined_test = np.concatenate((x_SOB[88:], x_Estate[88:]), axis=1)\n",
    "\n",
    "data2 = pd.read_excel('initial dataset.xlsx')\n",
    "y = data2['HOF(kJ/mol)'].values"
   ]
  },
  {
   "cell_type": "code",
   "execution_count": null,
   "metadata": {},
   "outputs": [],
   "source": [
    "GSmodel = GridSearchCV(SVR(kernel='linear'), cv=5, param_grid={\"C\": np.logspace(-1, 4, 20), \"epsilon\": np.logspace(-2, 2, 20)})\n",
    "GSmodel = GSmodel.fit(x_combined_train, y)\n",
    "model = GSmodel.best_estimator_"
   ]
  },
  {
   "cell_type": "code",
   "execution_count": null,
   "metadata": {},
   "outputs": [],
   "source": [
    "result=[]\n",
    "n=1000\n",
    "for i in range(n):\n",
    "    bs_sample = np.random.choice(range(len(x_combined_train)), size=len(x_combined_train))\n",
    "    x_bs = np.array(x_combined_train)[bs_sample]\n",
    "    y_bs = y[bs_sample]\n",
    "    model.fit(x_bs,y_bs)\n",
    "    y_pre = model.predict(x_combined_test)\n",
    "    result.append(y_pre)"
   ]
  },
  {
   "cell_type": "code",
   "execution_count": null,
   "metadata": {},
   "outputs": [],
   "source": [
    "result = np.asarray(result)\n",
    "means = np.mean(result,axis=0)\n",
    "#variance = np.var(result,axis=0)\n",
    "stds = np.std(result,axis=0)\n",
    "\n",
    "z = (means-np.max(y))/stds\n",
    "sdfs = norm.pdf(z)\n",
    "cdfs = norm.cdf(z)\n",
    "e = stds*(sdfs + z*cdfs)\n",
    "\n",
    "e_2 = sorted(e)\n",
    "itemindex1 = np.where(e == e_2[-1])\n",
    "print(itemindex1)"
   ]
  },
  {
   "cell_type": "code",
   "execution_count": null,
   "metadata": {},
   "outputs": [],
   "source": [
    "y1 = means[]\n",
    "print(y1)\n",
    "mol_smile = data['SMILES'][] # mol_smile index = itemindex1 + 88\n",
    "print(mol_smile)\n",
    "mol = Chem.MolFromSmiles(mol_smile)\n",
    "Draw.MolsToImage([mol],subImgSize=(400, 400))\n",
    "#df = pd.DataFrame(np.transpose(np.array([mol_smile])),columns=['SMILES'])\n",
    "#df.to_excel('new_molecualr.xlsx')"
   ]
  },
  {
   "cell_type": "code",
   "execution_count": null,
   "metadata": {},
   "outputs": [],
   "source": [
    "def get_num_atom(mol, atomic_number):\n",
    "    num = 0\n",
    "    for atom in mol.GetAtoms():\n",
    "        atom_num = atom.GetAtomicNum()\n",
    "        if (atom_num == atomic_number):\n",
    "            num += 1\n",
    "    return num\n",
    "def get_mol_mass(mol):\n",
    "    mol_mass = 0\n",
    "    for atom in mol.GetAtoms():\n",
    "        atom_mass = atom.GetMass()\n",
    "        mol_mass = mol_mass + atom_mass\n",
    "    return ('%.2f'%mol_mass)\n",
    "\n",
    "m = Chem.MolFromSmiles(mol_smile)\n",
    "m1 = Chem.AddHs(m)\n",
    "AllChem.EmbedMolecule(m1)\n",
    "AllChem.MMFFOptimizeMolecule(m1)\n",
    "AllChem.MolToMolFile(m1,'SVR.lin_Tradeoff_1.mol')\n",
    "n_C = int(get_num_atom(m1,6))\n",
    "n_H = int(get_num_atom(m1,1))\n",
    "n_N = int(get_num_atom(m1,7))\n",
    "n_O = int(get_num_atom(m1,8))\n",
    "mass = float(get_mol_mass(m1))\n",
    "OB = 1600*(n_O - 2*n_C - 0.5*n_H) / mass\n",
    "\n",
    "print(n_C, n_H, n_N, n_O, mass, OB)"
   ]
  }
 ],
 "metadata": {
  "kernelspec": {
   "display_name": "Python 3",
   "language": "python",
   "name": "python3"
  },
  "language_info": {
   "codemirror_mode": {
    "name": "ipython",
    "version": 3
   },
   "file_extension": ".py",
   "mimetype": "text/x-python",
   "name": "python",
   "nbconvert_exporter": "python",
   "pygments_lexer": "ipython3",
   "version": "3.7.3"
  }
 },
 "nbformat": 4,
 "nbformat_minor": 2
}
